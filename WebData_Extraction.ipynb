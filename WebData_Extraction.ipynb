{
  "nbformat": 4,
  "nbformat_minor": 0,
  "metadata": {
    "colab": {
      "provenance": [],
      "mount_file_id": "1YOUJ0OjYt1jElEJn08nCQrnW2oAkEO1Z",
      "authorship_tag": "ABX9TyPglK2FHdp9JV6eTG2rLcUO",
      "include_colab_link": true
    },
    "kernelspec": {
      "name": "python3",
      "display_name": "Python 3"
    },
    "language_info": {
      "name": "python"
    }
  },
  "cells": [
    {
      "cell_type": "markdown",
      "metadata": {
        "id": "view-in-github",
        "colab_type": "text"
      },
      "source": [
        "<a href=\"https://colab.research.google.com/github/SrushtiMD/webdata_extraction/blob/main/WebData_Extraction.ipynb\" target=\"_parent\"><img src=\"https://colab.research.google.com/assets/colab-badge.svg\" alt=\"Open In Colab\"/></a>"
      ]
    },
    {
      "cell_type": "code",
      "execution_count": 3,
      "metadata": {
        "colab": {
          "base_uri": "https://localhost:8080/"
        },
        "id": "5-LWUsNpF8F1",
        "outputId": "76f9ca05-efe1-42e8-aa8a-16bb74864a59"
      },
      "outputs": [
        {
          "output_type": "stream",
          "name": "stdout",
          "text": [
            "Data Extracted Successfully\n"
          ]
        }
      ],
      "source": [
        "from bs4 import BeautifulSoup\n",
        "import requests\n",
        "\n",
        "# creating request\n",
        "\n",
        "headers = {\n",
        "    'User-Agent': 'Mozilla/5.0 (Macintosh; Intel Mac OS X 10.12; rv:55.0) Gecko/20100101 Fire'\n",
        "}\n",
        "filenumber = 0\n",
        "with open('/content/drive/MyDrive/Data_Extraction/urls.txt') as file:\n",
        "  for url in file:\n",
        "    response = requests.get(url, headers=headers)\n",
        "    soup = BeautifulSoup(response.text, 'html.parser')\n",
        "    filenumber += 1\n",
        "    filename = '/content/drive/MyDrive/Data_Extraction/Extracted Files/' + str(filenumber) + \".txt\"\n",
        "    x = open(filename, 'w')\n",
        "    if response.status_code == 404:\n",
        "      continue\n",
        "    title = soup.title.getText()\n",
        "    blog = soup.find('div',{'class':'td-post-content'})\n",
        "    blog_content = blog.getText() if blog else \"No blog\"\n",
        "    print(title, file = x)\n",
        "    print(blog_content, file = x)\n",
        "    x.close()\n",
        "print(\"Data Extracted Successfully\")"
      ]
    },
    {
      "cell_type": "code",
      "source": [
        "from google.colab import drive\n",
        "drive.mount('/content/drive')"
      ],
      "metadata": {
        "colab": {
          "base_uri": "https://localhost:8080/"
        },
        "id": "7t6fp5nxTc6F",
        "outputId": "ce34170e-75a5-447e-8c38-acbd09998df9"
      },
      "execution_count": null,
      "outputs": [
        {
          "output_type": "stream",
          "name": "stdout",
          "text": [
            "Mounted at /content/drive\n"
          ]
        }
      ]
    }
  ]
}